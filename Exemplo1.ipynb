{
 "cells": [
  {
   "cell_type": "markdown",
   "id": "saved-panama",
   "metadata": {},
   "source": [
    "### Data Science - Web Scraping"
   ]
  },
  {
   "cell_type": "markdown",
   "id": "surgical-greek",
   "metadata": {},
   "source": [
    "### IMPORTANTE:\n",
    "\n",
    "- Para conferir se você pode buscar o código de um determinado site, é recomendável adicionar \"/robots.txt\" ao final da página, assim as informações e permissões estarão definidas nesse arquivo.\n",
    "\n",
    "- Abaixo usaremos o site https://www.python.org, então adicionamos \"/robots.txt\" ao final da url antes de iniciar o webscraping: https://www.python.org/robots.txt"
   ]
  },
  {
   "cell_type": "code",
   "execution_count": 3,
   "id": "measured-better",
   "metadata": {},
   "outputs": [],
   "source": [
    "# Biblioteca usada para requisitar uma página de um web site\n",
    "import urllib.request"
   ]
  },
  {
   "cell_type": "code",
   "execution_count": 4,
   "id": "falling-designer",
   "metadata": {},
   "outputs": [],
   "source": [
    "# definindo a url\n",
    "with urllib.request.urlopen(\"https://www.python.org\") as url:\n",
    "    page = url.read()"
   ]
  },
  {
   "cell_type": "code",
   "execution_count": 6,
   "id": "handmade-michael",
   "metadata": {},
   "outputs": [],
   "source": [
    "# imprime o conteúdo\n",
    "# print(page)"
   ]
  },
  {
   "cell_type": "code",
   "execution_count": 7,
   "id": "intensive-mechanism",
   "metadata": {},
   "outputs": [],
   "source": [
    "from bs4 import BeautifulSoup"
   ]
  },
  {
   "cell_type": "code",
   "execution_count": 8,
   "id": "greater-beast",
   "metadata": {},
   "outputs": [],
   "source": [
    "# Analise o html na variável 'page' e armazene-o no formato Beautiful Soup\n",
    "soup = BeautifulSoup(page, 'html.parser')"
   ]
  },
  {
   "cell_type": "code",
   "execution_count": 9,
   "id": "extraordinary-rates",
   "metadata": {},
   "outputs": [
    {
     "data": {
      "text/plain": [
       "<title>Welcome to Python.org</title>"
      ]
     },
     "execution_count": 9,
     "metadata": {},
     "output_type": "execute_result"
    }
   ],
   "source": [
    "soup.title"
   ]
  },
  {
   "cell_type": "code",
   "execution_count": 10,
   "id": "pacific-pearl",
   "metadata": {},
   "outputs": [
    {
     "data": {
      "text/plain": [
       "'Welcome to Python.org'"
      ]
     },
     "execution_count": 10,
     "metadata": {},
     "output_type": "execute_result"
    }
   ],
   "source": [
    "soup.title.string"
   ]
  },
  {
   "cell_type": "code",
   "execution_count": 16,
   "id": "diverse-morris",
   "metadata": {},
   "outputs": [],
   "source": [
    "# buscar todos os <a>\n",
    "\n",
    "links = soup.find_all(\"a\")"
   ]
  },
  {
   "cell_type": "code",
   "execution_count": null,
   "id": "supreme-cabin",
   "metadata": {},
   "outputs": [],
   "source": []
  }
 ],
 "metadata": {
  "kernelspec": {
   "display_name": "Python 3",
   "language": "python",
   "name": "python3"
  },
  "language_info": {
   "codemirror_mode": {
    "name": "ipython",
    "version": 3
   },
   "file_extension": ".py",
   "mimetype": "text/x-python",
   "name": "python",
   "nbconvert_exporter": "python",
   "pygments_lexer": "ipython3",
   "version": "3.8.5"
  }
 },
 "nbformat": 4,
 "nbformat_minor": 5
}
