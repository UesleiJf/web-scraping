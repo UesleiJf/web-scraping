{
 "cells": [
  {
   "cell_type": "markdown",
   "id": "honest-jenny",
   "metadata": {},
   "source": [
    "#### Expressões Regulares"
   ]
  },
  {
   "cell_type": "code",
   "execution_count": 1,
   "id": "amazing-reflection",
   "metadata": {},
   "outputs": [],
   "source": [
    "# Importanto método re (Regular Expression)\n",
    "import re"
   ]
  },
  {
   "cell_type": "code",
   "execution_count": 2,
   "id": "backed-mexican",
   "metadata": {},
   "outputs": [],
   "source": [
    "lista_pesquisa = ['Resident', 'Claire']"
   ]
  },
  {
   "cell_type": "code",
   "execution_count": 3,
   "id": "indoor-behalf",
   "metadata": {},
   "outputs": [],
   "source": [
    "texto = 'Resident Evil 2, conhecido no Japão como Biohazard 2, é um jogo '\\\n",
    "'eletrônico de survival horror lançado originalmente para o PlayStation em 1998. Desenvolvido pela '\\\n",
    "'Capcom como o segundo título da série Resident Evil, sua história se passa dois meses após os ' \\\n",
    "'eventos do primeiro jogo. Ele é ambientado em Raccoon City, uma comunidade americana cujos ' \\\n",
    "'moradores foram transformados em zumbis pelo T-virus, uma arma biológica desenvolvida pela ' \\\n",
    "'empresa farmacêutica Umbrella Corporation. Em sua fuga da cidade, os dois protagonistas, Leon S. ' \\\n",
    "'Kennedy e Claire Redfield, encontram-se com outros sobreviventes e são confrontados por William ' \\\n",
    "'Birkin, o criador de um vírus ainda mais poderoso chamado de G-virus, que ele injetou em si ' \\\n",
    "'mesmo.'"
   ]
  },
  {
   "cell_type": "code",
   "execution_count": 5,
   "id": "spread-principle",
   "metadata": {},
   "outputs": [
    {
     "name": "stdout",
     "output_type": "stream",
     "text": [
      "\n",
      "\n",
      "Palavra Resident encontrada. \n",
      "\n",
      "\n",
      "\n",
      "\n",
      "\n",
      "Palavra Claire encontrada. \n",
      "\n",
      "\n",
      "\n"
     ]
    }
   ],
   "source": [
    "# Data mining\n",
    "for item in lista_pesquisa:\n",
    "#     print('Buscando por \"%s\" em: \\n\\n\"%s\"' % (item, texto))\n",
    "    \n",
    "    # Verifica se o termo de pesquisa existe no texto\n",
    "    if re.search(item, texto):\n",
    "        print('\\n')\n",
    "        print('Palavra {0} encontrada. \\n'.format(item))\n",
    "        print('\\n')\n",
    "    else:\n",
    "        print('\\n')\n",
    "        print('Palavra {0} não encontrada. \\n'.format(item))\n",
    "        print('\\n')"
   ]
  },
  {
   "cell_type": "code",
   "execution_count": 6,
   "id": "adult-alliance",
   "metadata": {},
   "outputs": [],
   "source": [
    "# Termo para dividir uma string\n",
    "split_term = \"@\""
   ]
  },
  {
   "cell_type": "code",
   "execution_count": 7,
   "id": "received-clause",
   "metadata": {},
   "outputs": [],
   "source": [
    "frase = 'Qual é o e-mail: resident@capcom.com'"
   ]
  },
  {
   "cell_type": "code",
   "execution_count": 8,
   "id": "supposed-corner",
   "metadata": {},
   "outputs": [
    {
     "data": {
      "text/plain": [
       "['Qual é o e-mail: resident', 'capcom.com']"
      ]
     },
     "execution_count": 8,
     "metadata": {},
     "output_type": "execute_result"
    }
   ],
   "source": [
    "re.split(split_term, frase)"
   ]
  },
  {
   "cell_type": "code",
   "execution_count": 9,
   "id": "large-screw",
   "metadata": {},
   "outputs": [],
   "source": [
    "def encontrar_padrao(lista, frase):\n",
    "    for item in lista:\n",
    "        print('Pesquisando na frase: {0}'.format(item))\n",
    "        print(re.findall(item, frase))\n",
    "        print('\\n')"
   ]
  },
  {
   "cell_type": "code",
   "execution_count": 11,
   "id": "norwegian-statement",
   "metadata": {},
   "outputs": [
    {
     "name": "stdout",
     "output_type": "stream",
     "text": [
      "Pesquisando na frase: zL*\n",
      "['zL', 'zL', 'z', 'z', 'zLLL', 'zLLLL', 'zLLLL', 'zL', 'z', 'z', 'z', 'z', 'z', 'z', 'zLLL']\n",
      "\n",
      "\n",
      "Pesquisando na frase: Lz\n",
      "['Lz', 'Lz', 'Lz', 'Lz']\n",
      "\n",
      "\n",
      "Pesquisando na frase: zL?\n",
      "['zL', 'zL', 'z', 'z', 'zL', 'zL', 'zL', 'zL', 'z', 'z', 'z', 'z', 'z', 'z', 'zL']\n",
      "\n",
      "\n",
      "Pesquisando na frase: zL{3}\n",
      "['zLLL', 'zLLL', 'zLLL', 'zLLL']\n",
      "\n",
      "\n",
      "Pesquisando na frase: zzzLLL{2, 3}\n",
      "[]\n",
      "\n",
      "\n"
     ]
    }
   ],
   "source": [
    "frase_padrao = 'zLzL..zzzLLL...zLLLLzLLLL...LzLz...dzzzz...lZZZZZ...zzLLL'\n",
    "lista_padroes = ['zL*', \n",
    "                 'Lz',\n",
    "                 'zL?',\n",
    "                 'zL{3}',\n",
    "                 'zzzLLL{2, 3}',\n",
    "                ]\n",
    "\n",
    "encontrar_padrao(lista_padroes, frase_padrao)\n"
   ]
  },
  {
   "cell_type": "code",
   "execution_count": 14,
   "id": "covered-sampling",
   "metadata": {},
   "outputs": [
    {
     "data": {
      "text/plain": [
       "['Qual', 'é', 'o', 'e-mail:', 'resident@capcom', 'com']"
      ]
     },
     "execution_count": 14,
     "metadata": {},
     "output_type": "execute_result"
    }
   ],
   "source": [
    "# buscando por expressões que não sejam pontuações\n",
    "\n",
    "re.findall('[^!.? ]+', frase)"
   ]
  },
  {
   "cell_type": "code",
   "execution_count": 17,
   "id": "religious-bible",
   "metadata": {},
   "outputs": [],
   "source": [
    "frase = 'Esta é uma frase exemplo. Com pontos, espaço, vírgulas e por ai vai...'\n",
    "\n",
    "lista_padroes = [ '[a-z]+', #sequencia de letras minúsculas\n",
    "                 '[A-Z]+', # sequencia de letras maiúsculas\n",
    "                 '[a-zA-Z]+', # sequencia de letras maiúsculas e minúsculas\n",
    "                 '[A-Z][a-z]+']  # uma letra maiúscula seguida de uma letra minúscula"
   ]
  },
  {
   "cell_type": "code",
   "execution_count": 18,
   "id": "affiliated-fashion",
   "metadata": {},
   "outputs": [
    {
     "ename": "NameError",
     "evalue": "name 'encontra_padrao' is not defined",
     "output_type": "error",
     "traceback": [
      "\u001b[0;31m---------------------------------------------------------------------------\u001b[0m",
      "\u001b[0;31mNameError\u001b[0m                                 Traceback (most recent call last)",
      "\u001b[0;32m<ipython-input-18-92c26b12e562>\u001b[0m in \u001b[0;36m<module>\u001b[0;34m\u001b[0m\n\u001b[0;32m----> 1\u001b[0;31m \u001b[0mencontra_padrao\u001b[0m\u001b[0;34m(\u001b[0m\u001b[0mlista_padroes\u001b[0m\u001b[0;34m,\u001b[0m \u001b[0mfrase\u001b[0m\u001b[0;34m)\u001b[0m\u001b[0;34m\u001b[0m\u001b[0;34m\u001b[0m\u001b[0m\n\u001b[0m",
      "\u001b[0;31mNameError\u001b[0m: name 'encontra_padrao' is not defined"
     ]
    }
   ],
   "source": [
    "encontra_padrao(lista_padroes, frase)"
   ]
  }
 ],
 "metadata": {
  "kernelspec": {
   "display_name": "Python 3",
   "language": "python",
   "name": "python3"
  },
  "language_info": {
   "codemirror_mode": {
    "name": "ipython",
    "version": 3
   },
   "file_extension": ".py",
   "mimetype": "text/x-python",
   "name": "python",
   "nbconvert_exporter": "python",
   "pygments_lexer": "ipython3",
   "version": "3.8.5"
  }
 },
 "nbformat": 4,
 "nbformat_minor": 5
}
